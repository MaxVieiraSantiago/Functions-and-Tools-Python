{
  "nbformat": 4,
  "nbformat_minor": 0,
  "metadata": {
    "colab": {
      "provenance": [],
      "authorship_tag": "ABX9TyOk3LMJg82iuvDypiahxgY3",
      "include_colab_link": true
    },
    "kernelspec": {
      "name": "python3",
      "display_name": "Python 3"
    },
    "language_info": {
      "name": "python"
    }
  },
  "cells": [
    {
      "cell_type": "markdown",
      "metadata": {
        "id": "view-in-github",
        "colab_type": "text"
      },
      "source": [
        "<a href=\"https://colab.research.google.com/github/MaxVieiraSantiago/Graphics-Functions-and-Tools-Python/blob/master/Fun%C3%A7%C3%A3o_Perda_de_Articula%C3%A7%C3%A3o_(RNA).ipynb\" target=\"_parent\"><img src=\"https://colab.research.google.com/assets/colab-badge.svg\" alt=\"Open In Colab\"/></a>"
      ]
    },
    {
      "cell_type": "code",
      "execution_count": 1,
      "metadata": {
        "id": "lXxvqvu-AIkw"
      },
      "outputs": [],
      "source": [
        "import numpy as np\n",
        "\n",
        "def L_i_vectorized( x, y, W ):\n",
        "  scores = W.dot( X )\n",
        "  margins = np.maximum( 0, scores - scores[ y ] + 1 )\n",
        "  margins[ y ] = 0\n",
        "  loss_i = np.sum( margins )\n",
        "\n",
        "  return loss_i"
      ]
    }
  ]
}